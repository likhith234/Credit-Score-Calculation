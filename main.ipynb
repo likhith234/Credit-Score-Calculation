{
 "cells": [
  {
   "cell_type": "code",
   "execution_count": 1,
   "id": "4e872d86",
   "metadata": {},
   "outputs": [],
   "source": [
    "#Importing Necessary Libraries\n",
    "import json, math, pandas as pd\n",
    "from collections import defaultdict"
   ]
  },
  {
   "cell_type": "code",
   "execution_count": 2,
   "id": "478a7d45",
   "metadata": {},
   "outputs": [],
   "source": [
    "\n",
    "def safe_str(x):\n",
    "    return str(x) if x is not None else ''\n",
    "\n",
    "def safe_float(x):\n",
    "    if x is None:\n",
    "        return 0.0\n",
    "    if isinstance(x, dict):\n",
    "        for v in x.values():\n",
    "            try:\n",
    "                return float(v)\n",
    "            except (ValueError, TypeError):\n",
    "                continue\n",
    "        return 0.0\n",
    "    try:\n",
    "        return float(x)\n",
    "    except (ValueError, TypeError):\n",
    "        return 0.0\n",
    "\n",
    "def load(path):\n",
    "    with open(path, encoding='utf-8') as f:\n",
    "        raw = json.load(f)\n",
    "    # Accept list or ND-json\n",
    "    return raw if isinstance(raw, list) else [json.loads(l) for l in f if l.strip()]"
   ]
  },
  {
   "cell_type": "code",
   "execution_count": 3,
   "id": "5fb81bbd",
   "metadata": {},
   "outputs": [],
   "source": [
    "# Feature engineering\n",
    "\n",
    "def build_features(df):\n",
    "    \"\"\"Robust feature builder that auto-detects column names & flattens nested dicts.\"\"\"\n",
    "    # auto-detect columns \n",
    "    addr_cols = [c for c in df.columns if df[c].astype(str).str.startswith('0x').any()]\n",
    "    if not addr_cols:\n",
    "        raise KeyError(\"No column contains Ethereum addresses (0x...)\")\n",
    "    addr_col = addr_cols[0]\n",
    "\n",
    "    action_col = next((c for c in ['action', 'event', 'type'] if c in df.columns), 'action')\n",
    "    amount_col = next((c for c in ['amount', 'value', 'amountUSD'] if c in df.columns), 'amount')\n",
    "    asset_col  = next((c for c in ['asset', 'reserve', 'symbol', 'assetSymbol', 'token'] if c in df.columns), 'asset')\n",
    "\n",
    "    feats = defaultdict(lambda: defaultdict(float))\n",
    "\n",
    "    for _, r in df.iterrows():\n",
    "        # flatten nested dicts once\n",
    "        flat = dict(r)\n",
    "        if isinstance(flat.get('actionData'), dict):\n",
    "            flat.update(flat['actionData'])\n",
    "\n",
    "        u   = safe_str(flat.get(addr_col))\n",
    "        a   = safe_str(flat.get(action_col, flat.get('type'))).lower()\n",
    "        amt = safe_float(flat.get(amount_col, flat.get('amount')))\n",
    "        ts  = int(flat.get('timestamp', 0) or 0)\n",
    "        tok = safe_str(flat.get(asset_col, flat.get('assetSymbol', 'unknown')))\n",
    "\n",
    "        # accumulate per action \n",
    "        if a == 'deposit':\n",
    "            feats[u]['total_deposited'] += amt\n",
    "            feats[u]['deposit_cnt']     += 1\n",
    "            feats[u]['first_tx'] = min(feats[u]['first_tx'], ts) if 'first_tx' in feats[u] else ts\n",
    "            feats[u]['last_tx']  = max(feats[u]['last_tx'], ts)  if 'last_tx'  in feats[u] else ts\n",
    "        elif a == 'borrow':\n",
    "            feats[u]['total_borrowed'] += amt\n",
    "            feats[u]['borrow_cnt']     += 1\n",
    "        elif a == 'repay':\n",
    "            feats[u]['total_repaid'] += amt\n",
    "            feats[u]['repay_cnt']    += 1\n",
    "        elif a == 'redeemunderlying':\n",
    "            feats[u]['total_redeemed'] += amt\n",
    "        elif a == 'liquidationcall':\n",
    "            feats[u]['liquidated_cnt'] += 1\n",
    "            feats[u]['liquidated_vol'] += amt\n",
    "\n",
    "    # final feature dict\n",
    "    out = {}\n",
    "    for u, f in feats.items():\n",
    "        age_days = max((f.get('last_tx', 0) - f.get('first_tx', 0)) / 86400, 1)\n",
    "        dep = f.get('total_deposited', 1e-9)\n",
    "        bor = f.get('total_borrowed', 1e-9)\n",
    "        ratio = dep / (dep + bor + 1e-9)\n",
    "        repay_ratio = f.get('total_repaid', 0) / (bor + 1e-9)\n",
    "        liq_penalty = min(f.get('liquidated_cnt', 0) * 50, 200)\n",
    "        avg_dep = f.get('total_deposited', 0) / max(f.get('deposit_cnt', 1), 1)\n",
    "        div = len(set(df[df[addr_col] == u][asset_col])) if asset_col in df.columns else 1\n",
    "        out[u] = {\n",
    "            'ratio': ratio,\n",
    "            'repay_ratio': min(repay_ratio, 1),\n",
    "            'liq_penalty': liq_penalty,\n",
    "            'avg_dep': math.log1p(avg_dep),\n",
    "            'diversity': min(div, 10),\n",
    "            'age_days': age_days\n",
    "        }\n",
    "    return out"
   ]
  },
  {
   "cell_type": "code",
   "execution_count": 4,
   "id": "eefca10a",
   "metadata": {},
   "outputs": [],
   "source": [
    "#  Scoring formula\n",
    "\n",
    "def score(features):\n",
    "    \"\"\"Map engineered features to 0-1000 integer.\"\"\"\n",
    "    f = features\n",
    "    base = 0\n",
    "    base += int(f['ratio'] * 400)\n",
    "    base += int(f['repay_ratio'] * 300)\n",
    "    base += int(min(f['diversity']/5, 1) * 100)\n",
    "    base += int(min(f['age_days']/365, 1) * 100)\n",
    "    base += int(min(f['avg_dep']/10, 1) * 100)\n",
    "    base = max(base - f['liq_penalty'], 0)\n",
    "    return int(min(max(base, 0), 1000))"
   ]
  },
  {
   "cell_type": "code",
   "execution_count": null,
   "id": "ddaf0ed5",
   "metadata": {},
   "outputs": [
    {
     "name": "stdout",
     "output_type": "stream",
     "text": [
      "Scored 3497 wallets → scores.json\n"
     ]
    }
   ],
   "source": [
    "#Main Funtion\n",
    "def run():\n",
    "    df = pd.DataFrame(load('user-wallet-transactions.json'))\n",
    "    feats = build_features(df)\n",
    "    final_scores = {u: score(f) for u, f in feats.items()}\n",
    "    with open('scores.json', 'w', encoding='utf-8') as f:\n",
    "        json.dump(final_scores, f, indent=2)\n",
    "    print(f\"Scored {len(final_scores)} wallets → scores.json\")\n",
    "\n",
    "run()"
   ]
  }
 ],
 "metadata": {
  "kernelspec": {
   "display_name": "Python 3",
   "language": "python",
   "name": "python3"
  },
  "language_info": {
   "codemirror_mode": {
    "name": "ipython",
    "version": 3
   },
   "file_extension": ".py",
   "mimetype": "text/x-python",
   "name": "python",
   "nbconvert_exporter": "python",
   "pygments_lexer": "ipython3",
   "version": "3.13.5"
  }
 },
 "nbformat": 4,
 "nbformat_minor": 5
}
